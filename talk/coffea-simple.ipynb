{
 "cells": [
  {
   "cell_type": "markdown",
   "source": [
    "# Using Coffea\n",
    "\n",
    "`ServiceX`:\n",
    "\n",
    "* Gets columnar data from any format that a transformer has been written for (ATLAS Run 2 xAOD, CMS Run 1 AOD, uproot-able ROOT files, soon some dark matter experiments, etc.)\n",
    "* Slims, skims, generates calculated quantities\n",
    "\n",
    "Think _ntuplizer_.\n",
    "\n",
    "`coffea`:\n",
    "\n",
    "* Used `awkward` and friends to perform the final analysis\n",
    "* Plotting\n",
    "* Distributed running\n",
    "* Good at running on a large number of datasets at once\n",
    "\n",
    "`coffea` is arranged around processors that do the physics. Each processor runs once per file, and results are combined for a dataset.\n"
   ],
   "metadata": {}
  },
  {
   "cell_type": "code",
   "execution_count": 1,
   "source": [
    "from func_adl_servicex import ServiceXSourceUpROOT\n",
    "from hist import Hist\n",
    "import awkward as ak\n",
    "\n",
    "\n",
    "from coffea import processor\n",
    "\n",
    "\n",
    "from servicex import ServiceXDataset\n",
    "from coffea.processor.servicex import DataSource, Analysis\n",
    "from coffea.processor.servicex import LocalExecutor"
   ],
   "outputs": [],
   "metadata": {}
  },
  {
   "cell_type": "code",
   "execution_count": 2,
   "source": [
    "ggH125_ZZ4lep = 'root://eospublic.cern.ch//eos/opendata/atlas/OutreachDatasets/2020-01-22/4lep/MC/mc_345060.ggH125_ZZ4lep.4lep.root'\n",
    "# ggH125_ZZ4lep = 'https://atlas-opendata.web.cern.ch/atlas-opendata/samples/2020/4lep/MC/mc_345060.ggH125_ZZ4lep.4lep.root'"
   ],
   "outputs": [],
   "metadata": {}
  },
  {
   "cell_type": "markdown",
   "source": [
    "First define a dummy (representative) dataset and apply the operations on it we are interested in:"
   ],
   "metadata": {}
  },
  {
   "cell_type": "code",
   "execution_count": 3,
   "source": [
    "ds = ServiceXSourceUpROOT('cernopendata://dummy',  \"mini\", 'uproot-af')\n",
    "ds.return_qastle = True  # Magic\n",
    "\n",
    "selection_atlas = (ds\n",
    "                     .Select(lambda e: Zip({'lep_pt': e['lep_pt'], 'lep_eta': e['lep_eta']}))\n",
    "                     .Select(lambda leps: leps.Where(lambda l: abs(l.lep_eta) < 1.0))\n",
    "                     .Select(lambda leps: {'lep_pt': leps.lep_pt, 'lep_eta': leps.lep_eta})\n",
    "                  )\n",
    "\n",
    "datasets = [ServiceXDataset([ggH125_ZZ4lep], backend_name='uproot-af')]\n",
    "c_datasets = DataSource(query=selection_atlas, metadata={'dataset': 'ggH125_ZZ4lep'}, datasets=datasets)"
   ],
   "outputs": [],
   "metadata": {}
  },
  {
   "cell_type": "markdown",
   "source": [
    "Note:\n",
    "\n",
    "* no call to `value`: We do not want to try to render this bogus expression."
   ],
   "metadata": {}
  },
  {
   "cell_type": "code",
   "execution_count": 4,
   "source": [
    "class atlas_demo_processor(Analysis):\n",
    "    @staticmethod\n",
    "    def process(events):\n",
    "        import awkward as ak\n",
    "\n",
    "        h = (Hist.new\n",
    "             .Reg(50, 0, 200, name='lep_pt', label='Lepton $p_T$ [GeV]')\n",
    "             .StrCat([], name='dataset', label='Dataset', growth=True)\n",
    "             .Int64()\n",
    "             )\n",
    "\n",
    "        dataset = events.metadata['dataset']\n",
    "        leptons = events.lep\n",
    "\n",
    "        h.fill(\n",
    "            dataset=dataset,\n",
    "            lep_pt = ak.flatten(leptons.pt/1000.0)\n",
    "        )\n",
    "                \n",
    "        return h"
   ],
   "outputs": [],
   "metadata": {}
  },
  {
   "cell_type": "markdown",
   "source": [
    "Now we create a real dataset and execute it."
   ],
   "metadata": {}
  },
  {
   "cell_type": "markdown",
   "source": [
    "This code is boiler plate:\n",
    "\n",
    "* Declare a dataset and a transformer image\n",
    "* Create a datasource\n",
    "* Note the metadata - a useful way to pass information into your processor on a per-dataset basis."
   ],
   "metadata": {}
  },
  {
   "cell_type": "code",
   "execution_count": 5,
   "source": [
    "async def run_updates_stream(accumulator_stream):\n",
    "  count = 0\n",
    "  async for coffea_info in accumulator_stream:\n",
    "    count += 1\n",
    "  return coffea_info\n",
    "\n",
    "result = await run_updates_stream(\n",
    "  LocalExecutor().execute(atlas_demo_processor(), c_datasets)\n",
    "  )"
   ],
   "outputs": [
    {
     "output_type": "display_data",
     "data": {
      "application/vnd.jupyter.widget-view+json": {
       "version_major": 2,
       "version_minor": 0,
       "model_id": "0e783f3dda184fec8c0cf763abfac937"
      },
      "text/plain": [
       "HBox(children=(FloatProgress(value=0.0, description='[root://eospublic.ce...', layout=Layout(flex='2'), max=90…"
      ]
     },
     "metadata": {}
    },
    {
     "output_type": "display_data",
     "data": {
      "application/vnd.jupyter.widget-view+json": {
       "version_major": 2,
       "version_minor": 0,
       "model_id": "d68c08f5a48e42d193670f23d828ffa9"
      },
      "text/plain": [
       "HBox(children=(FloatProgress(value=0.0, description='        [root://eospublic.ce... Downloaded', layout=Layou…"
      ]
     },
     "metadata": {}
    },
    {
     "output_type": "stream",
     "name": "stderr",
     "text": [
      "C:\\Users\\ilija\\AppData\\Local\\Packages\\PythonSoftwareFoundation.Python.3.8_qbz5n2kfra8p0\\LocalCache\\local-packages\\Python38\\site-packages\\numba\\core\\cpu.py:97: UserWarning: Numba extension module 'awkward1._connect._numba' failed to load due to 'ImportError(generic_type: type \"kernel_lib\" is already registered!)'.\n",
      "  numba.core.entrypoints.init_all()\n"
     ]
    }
   ],
   "metadata": {}
  },
  {
   "cell_type": "code",
   "execution_count": 6,
   "source": [
    "artists = result.plot()\n",
    "\n",
    "ax = artists[0].stairs.axes  # get the axis\n",
    "ax.legend(loc=\"best\");"
   ],
   "outputs": [
    {
     "output_type": "display_data",
     "data": {
      "image/png": "[encoded data removed]",
      "text/plain": [
       "<Figure size 432x288 with 1 Axes>"
      ]
     },
     "metadata": {
      "needs_background": "light"
     }
    }
   ],
   "metadata": {}
  }
 ],
 "metadata": {
  "kernelspec": {
   "name": "python3",
   "display_name": "Python 3.8.10 64-bit"
  },
  "language_info": {
   "codemirror_mode": {
    "name": "ipython",
    "version": 3
   },
   "file_extension": ".py",
   "mimetype": "text/x-python",
   "name": "python",
   "nbconvert_exporter": "python",
   "pygments_lexer": "ipython3",
   "version": "3.8.10"
  },
  "interpreter": {
   "hash": "f2575392019334285e0602a4035eec46b9260ee4c95297ea34ade6e3c8b8fcaf"
  }
 },
 "nbformat": 4,
 "nbformat_minor": 5
}